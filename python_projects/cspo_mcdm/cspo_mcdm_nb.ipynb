{
 "cells": [
  {
   "cell_type": "markdown",
   "id": "95f221b5",
   "metadata": {},
   "source": [
    "# CSPO MCDM"
   ]
  },
  {
   "cell_type": "code",
   "execution_count": 10,
   "id": "cd085d9a",
   "metadata": {},
   "outputs": [
    {
     "ename": "ImportError",
     "evalue": "cannot import name 'MIN' from 'skcriteria' (E:\\Softwares\\Anaconda\\lib\\site-packages\\skcriteria\\__init__.py)",
     "output_type": "error",
     "traceback": [
      "\u001b[1;31m---------------------------------------------------------------------------\u001b[0m",
      "\u001b[1;31mImportError\u001b[0m                               Traceback (most recent call last)",
      "Cell \u001b[1;32mIn[10], line 1\u001b[0m\n\u001b[1;32m----> 1\u001b[0m \u001b[38;5;28;01mfrom\u001b[39;00m \u001b[38;5;21;01mskcriteria\u001b[39;00m \u001b[38;5;28;01mimport\u001b[39;00m DecisionMatrix, MIN, MAX\n",
      "\u001b[1;31mImportError\u001b[0m: cannot import name 'MIN' from 'skcriteria' (E:\\Softwares\\Anaconda\\lib\\site-packages\\skcriteria\\__init__.py)"
     ]
    }
   ],
   "source": [
    "from skcriteria import DecisionMatrix, MIN, MAX"
   ]
  },
  {
   "cell_type": "code",
   "execution_count": 18,
   "id": "fd87462d",
   "metadata": {},
   "outputs": [],
   "source": [
    "import skcriteria"
   ]
  },
  {
   "cell_type": "code",
   "execution_count": 19,
   "id": "13d83e2b",
   "metadata": {},
   "outputs": [
    {
     "data": {
      "text/plain": [
       "\"('0', '8', '3')\""
      ]
     },
     "execution_count": 19,
     "metadata": {},
     "output_type": "execute_result"
    }
   ],
   "source": [
    "format(skcriteria.__version__)"
   ]
  },
  {
   "cell_type": "code",
   "execution_count": null,
   "id": "a8973aa0",
   "metadata": {},
   "outputs": [],
   "source": [
    "conda install skcriteria"
   ]
  }
 ],
 "metadata": {
  "kernelspec": {
   "display_name": "Python 3 (ipykernel)",
   "language": "python",
   "name": "python3"
  },
  "language_info": {
   "codemirror_mode": {
    "name": "ipython",
    "version": 3
   },
   "file_extension": ".py",
   "mimetype": "text/x-python",
   "name": "python",
   "nbconvert_exporter": "python",
   "pygments_lexer": "ipython3",
   "version": "3.10.9"
  }
 },
 "nbformat": 4,
 "nbformat_minor": 5
}
