{
 "cells": [
  {
   "cell_type": "markdown",
   "id": "a840666e",
   "metadata": {},
   "source": [
    "# PYTHON PROGRAMMING BASICS"
   ]
  },
  {
   "cell_type": "markdown",
   "id": "63f899a7",
   "metadata": {},
   "source": [
    "## PYTHON BASICS"
   ]
  },
  {
   "cell_type": "code",
   "execution_count": null,
   "id": "6a3ae45f",
   "metadata": {},
   "outputs": [],
   "source": []
  }
 ],
 "metadata": {
  "kernelspec": {
   "display_name": "Python 3 (ipykernel)",
   "language": "python",
   "name": "python3"
  },
  "language_info": {
   "codemirror_mode": {
    "name": "ipython",
    "version": 3
   },
   "file_extension": ".py",
   "mimetype": "text/x-python",
   "name": "python",
   "nbconvert_exporter": "python",
   "pygments_lexer": "ipython3",
   "version": "3.9.13"
  }
 },
 "nbformat": 4,
 "nbformat_minor": 5
}
