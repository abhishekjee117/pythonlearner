{
 "cells": [
  {
   "cell_type": "markdown",
   "id": "a86e0856",
   "metadata": {},
   "source": [
    "### bagels.py"
   ]
  },
  {
   "cell_type": "code",
   "execution_count": 7,
   "id": "a018bbcd",
   "metadata": {},
   "outputs": [
    {
     "name": "stdout",
     "output_type": "stream",
     "text": [
      "['0', '1', '2', '3', '4', '5', '6', '7', '8', '9']\n",
      "['2', '3', '1', '4', '8', '0', '5', '9', '7', '6']\n",
      "*** 2\n",
      "2\n",
      "*** 3\n",
      "23\n",
      "*** 1\n",
      "231\n"
     ]
    }
   ],
   "source": [
    "import random\n",
    "\n",
    "numbers = list('0123456789')\n",
    "print(numbers)\n",
    "random.shuffle(numbers)\n",
    "print(numbers)\n",
    "\n",
    "secretNum = ''\n",
    "for i in range(3):\n",
    "    print('***',str(numbers[i]))\n",
    "    secretNum += str(numbers[i])\n",
    "    print(secretNum)"
   ]
  },
  {
   "cell_type": "code",
   "execution_count": null,
   "id": "6b841bf7",
   "metadata": {},
   "outputs": [],
   "source": []
  }
 ],
 "metadata": {
  "kernelspec": {
   "display_name": "Python 3 (ipykernel)",
   "language": "python",
   "name": "python3"
  },
  "language_info": {
   "codemirror_mode": {
    "name": "ipython",
    "version": 3
   },
   "file_extension": ".py",
   "mimetype": "text/x-python",
   "name": "python",
   "nbconvert_exporter": "python",
   "pygments_lexer": "ipython3",
   "version": "3.10.9"
  }
 },
 "nbformat": 4,
 "nbformat_minor": 5
}
