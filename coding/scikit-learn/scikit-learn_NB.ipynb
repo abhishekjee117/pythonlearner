{
 "cells": [
  {
   "cell_type": "markdown",
   "id": "8912860d",
   "metadata": {},
   "source": [
    "# SCIKIT-LEARN"
   ]
  },
  {
   "cell_type": "markdown",
   "id": "0c6d9ac3",
   "metadata": {},
   "source": [
    "## LINKS\n",
    "\n",
    "- https://scikit-learn.org/stable/tutorial/index.html\n",
    "- https://www.tutorialspoint.com/scikit_learn/index.htm"
   ]
  },
  {
   "cell_type": "markdown",
   "id": "f8120de1",
   "metadata": {},
   "source": [
    "- Also known as \"sklearn\"\n",
    "- Aids in Machine Learning and Statistical Modeling\n",
    "    - Classification\n",
    "    - Regression\n",
    "    - Clustering\n",
    "    - Dimensionality Reduction\n",
    "- Sklearn is built upon\n",
    "    - NumPy\n",
    "    - SciPy\n",
    "    - Matplotlib"
   ]
  },
  {
   "cell_type": "markdown",
   "id": "c734ae5c",
   "metadata": {},
   "source": [
    "https://www.tutorialspoint.com/scikit_learn/scikit_learn_introduction.htm\n",
    "\n",
    "Sklearn is more focused on modeling of data rather than loading-manipulating-summarizing the data.\n",
    "\n",
    "Groups of data models provided by sklearn are as follows:\n",
    "- Supervised Learning Algorithms\n",
    "- Unsupervised Learning Algorithms\n",
    "- Clustering\n",
    "- Cross-Validation\n",
    "- Dimensionality Reduction\n",
    "- Ensemble Methods\n",
    "- Feature Extraction\n",
    "- Open Source"
   ]
  },
  {
   "cell_type": "markdown",
   "id": "fe23c447",
   "metadata": {},
   "source": [
    "## MODELING PROCESS"
   ]
  },
  {
   "cell_type": "markdown",
   "id": "5acff084",
   "metadata": {},
   "source": [
    "### DATASET LOADING"
   ]
  },
  {
   "cell_type": "markdown",
   "id": "b1261fda",
   "metadata": {},
   "source": [
    "<pre>\n",
    "<font color='green'>\n",
    "\n",
    "Datasets are collections of data.\n",
    "Each dataset has two components:\n",
    "- Features : the variables of data. AKA predictors, inputs, attributes.\n",
    "    - Feature Matrix\n",
    "    - Feature Names\n",
    "- Responses : the output variable that basically depends on the feature variables. AKA target, label, output.\n",
    "    - Response Vector : it represents the response column. Generally, there is only one response column.\n",
    "    - Target Names : the possible values that can be taken by a response vector.\n",
    "\n",
    "</font>\n",
    "</pre>"
   ]
  },
  {
   "cell_type": "code",
   "execution_count": 23,
   "id": "19f78510",
   "metadata": {},
   "outputs": [
    {
     "name": "stdout",
     "output_type": "stream",
     "text": [
      "Feature names : ['sepal length (cm)', 'sepal width (cm)', 'petal length (cm)', 'petal width (cm)']\n",
      "Target names : ['setosa' 'versicolor' 'virginica']\n",
      "\n",
      "First 10 rows of X:\n",
      " [[5.1 3.5 1.4 0.2]\n",
      " [4.9 3.  1.4 0.2]\n",
      " [4.7 3.2 1.3 0.2]\n",
      " [4.6 3.1 1.5 0.2]\n",
      " [5.  3.6 1.4 0.2]\n",
      " [5.4 3.9 1.7 0.4]\n",
      " [4.6 3.4 1.4 0.3]\n",
      " [5.  3.4 1.5 0.2]\n",
      " [4.4 2.9 1.4 0.2]\n",
      " [4.9 3.1 1.5 0.1]]\n"
     ]
    }
   ],
   "source": [
    "# Loading the \"iris\" dataset\n",
    "\n",
    "from sklearn.datasets import load_iris\n",
    "iris = load_iris()\n",
    "X = iris.data\n",
    "Y = iris.target\n",
    "feature_names = iris.feature_names\n",
    "target_names = iris.target_names\n",
    "print(\"Feature names :\", feature_names)\n",
    "print(\"Target names :\", target_names)\n",
    "print(\"\\nFirst 10 rows of X:\\n\", X[:10])"
   ]
  },
  {
   "cell_type": "markdown",
   "id": "61cdf152",
   "metadata": {},
   "source": [
    "### SPLITTING THE DATASET"
   ]
  },
  {
   "cell_type": "code",
   "execution_count": 25,
   "id": "3bc1a525",
   "metadata": {},
   "outputs": [
    {
     "name": "stdout",
     "output_type": "stream",
     "text": [
      "(105, 4)\n",
      "(45, 4)\n",
      "(105,)\n",
      "(45,)\n"
     ]
    }
   ],
   "source": [
    "# splitting the iris dataset in a 70:30 ratio, with 70% accounting for training data and the remaining 30% accounting for testing data\n",
    "\n",
    "from sklearn.datasets import load_iris\n",
    "iris = load_iris()\n",
    "X = iris.data\n",
    "Y = iris.target\n",
    "\n",
    "from sklearn.model_selection import train_test_split\n",
    "X_train, X_test, Y_train, Y_test = train_test_split(X,Y,test_size=0.3,random_state=1)\n",
    "\n",
    "print(X_train.shape)\n",
    "print(X_test.shape)\n",
    "print(Y_train.shape)\n",
    "print(Y_test.shape)"
   ]
  },
  {
   "cell_type": "code",
   "execution_count": null,
   "id": "7e694958",
   "metadata": {},
   "outputs": [],
   "source": []
  }
 ],
 "metadata": {
  "kernelspec": {
   "display_name": "Python 3 (ipykernel)",
   "language": "python",
   "name": "python3"
  },
  "language_info": {
   "codemirror_mode": {
    "name": "ipython",
    "version": 3
   },
   "file_extension": ".py",
   "mimetype": "text/x-python",
   "name": "python",
   "nbconvert_exporter": "python",
   "pygments_lexer": "ipython3",
   "version": "3.9.13"
  }
 },
 "nbformat": 4,
 "nbformat_minor": 5
}
