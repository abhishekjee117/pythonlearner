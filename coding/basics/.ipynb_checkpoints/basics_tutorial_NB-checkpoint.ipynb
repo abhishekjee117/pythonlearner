{
 "cells": [
  {
   "cell_type": "markdown",
   "id": "8a92be41",
   "metadata": {},
   "source": [
    "# PYTHON BASICS"
   ]
  },
  {
   "cell_type": "markdown",
   "id": "deda47f2",
   "metadata": {},
   "source": [
    "## BASIC SYNTAX"
   ]
  },
  {
   "cell_type": "code",
   "execution_count": 1,
   "id": "a855ca5f",
   "metadata": {},
   "outputs": [
    {
     "name": "stdout",
     "output_type": "stream",
     "text": [
      "manpower = 1  and ManPower = 2\n"
     ]
    }
   ],
   "source": [
    "# PYTHON IDENTIFIERS\n",
    "\n",
    "# Python is case-sensitive. Hence, \"manpower\" and \"ManPower\" are two different identifiers.\n",
    "\n",
    "manpower = 1\n",
    "ManPower = 2\n",
    "print(\"manpower =\",manpower,\" and ManPower =\",ManPower)"
   ]
  },
  {
   "cell_type": "code",
   "execution_count": 2,
   "id": "8824892d",
   "metadata": {},
   "outputs": [
    {
     "name": "stdout",
     "output_type": "stream",
     "text": [
      "6\n",
      "str =  This is a string that has been split over multiple lines!\n",
      "['Mon', 'Tue', 'Wed', 'Thu', 'Fri', 'Sat', 'Sun']\n"
     ]
    }
   ],
   "source": [
    "# MULTI-LINE STATEMENTS\n",
    "\n",
    "# Here, we use a '\\' as a line-continuation character, in order to split a single statement over multiple lines.\n",
    "\n",
    "a = 1\n",
    "b = 2\n",
    "c = 3\n",
    "total = a +\\\n",
    "    b +\\\n",
    "    c\n",
    "print(total)\n",
    "\n",
    "str = \"This is a \\\n",
    "string that has been split \\\n",
    "over multiple lines!\"\n",
    "print(\"str = \", str)\n",
    "\n",
    "# Statements contained within the {}, [] and () pairs do not need a line-continuation character.\n",
    "# They can be split over multiple lines without it, by default.\n",
    "\n",
    "days = ['Mon','Tue','Wed','Thu',\n",
    "        'Fri','Sat','Sun']\n",
    "print(days)"
   ]
  },
  {
   "cell_type": "code",
   "execution_count": null,
   "id": "ea342f48",
   "metadata": {},
   "outputs": [],
   "source": [
    "# QUOTATIONS\n",
    "\n",
    "word = 'word'\n",
    "word2 = \"word2\"\n",
    "sentence = 'this is a sentence enclosed in single-quotes'\n",
    "sentence2 = \"this is a sentence enclosed in double-quotes\"\n",
    "\n",
    "# You may split a single sentence over multiple lines within a pair of triple quotes (single or double).\n",
    "# Doing so will print the sentence keeping its format intact.\n",
    "\n",
    "paragraph = '''this is a paragraph\n",
    "enclosed within triple single-quotes\n",
    "and spanning multiple lines'''\n",
    "paragraph2 = \"\"\"this is a paragraph\n",
    "enclosed within triple double-quotes\n",
    "and spanning multiple lines\"\"\"\n",
    "print(word,\"\\n\",word2,\"\\n\",sentence,\"\\n\",sentence2,\"\\n\",paragraph,\"\\n\",paragraph2)"
   ]
  },
  {
   "cell_type": "code",
   "execution_count": null,
   "id": "653743df",
   "metadata": {},
   "outputs": [],
   "source": [
    "# COMMENTS\n",
    "\n",
    "# This is a single-line comment\n",
    "\n",
    "a = 100 # This is a comment written at the end of the statement\n",
    "print(a)\n",
    "\n",
    "\"\"\"\n",
    "This is a multi-line statement.\n",
    "It spans over multiple lines,\n",
    "and will not be printed anywhere\n",
    "when this block is executed!\n",
    "\"\"\"\n",
    "\n",
    "# To comment out a bunch of lines of code, highlight them and then type \"Ctrl\"+\"/\".\n",
    "# You may use the same techniqe to comment out individual lines of code. However, you do not need to highlight that line.\n",
    "\n",
    "# code line 1\n",
    "# code line 2\n",
    "# code line 3\n",
    "# .........."
   ]
  },
  {
   "cell_type": "code",
   "execution_count": null,
   "id": "961aa450",
   "metadata": {},
   "outputs": [],
   "source": [
    "# WAITING FOR THE USER\n",
    "\n",
    "# The following code uses \"input()\" function to capture\n",
    "# an input from the user, after providing which the program terminates its execution.\n",
    "\n",
    "input(\"Enter something to exit...\")\n",
    "\n",
    "# If the input is assigned to a variable, the latter can be used later.\n",
    "\n",
    "x = input(\"enter something...\")\n",
    "print(\"what you entered is :\",x)"
   ]
  },
  {
   "cell_type": "code",
   "execution_count": null,
   "id": "1b696c0f",
   "metadata": {},
   "outputs": [],
   "source": [
    "# MULTIPLE STATEMENTS ON A SINGLE LINE\n",
    "\n",
    "# One can use a semicolon (;) to combine multiple single statements onto a single line,\n",
    "# thereby being able to execute all of them in the same sequence.\n",
    "\n",
    "a = 1; b = 2; c = 3; print(a+b+c)"
   ]
  },
  {
   "cell_type": "markdown",
   "id": "e58b3166",
   "metadata": {},
   "source": [
    "## VARIABLE TYPES"
   ]
  },
  {
   "cell_type": "code",
   "execution_count": null,
   "id": "1929069b",
   "metadata": {},
   "outputs": [],
   "source": [
    "# Python variables do not need to be explicitly declared in order to reserve\n",
    "# memory space for the values to be stored into them.\n",
    "# The declaration happens automatically based on the value assigned to them (run-time allocation)\n",
    "\n",
    "counter = 100\n",
    "miles = 1000.0\n",
    "name = \"John\"\n",
    "\n",
    "# Each of the following statements will print the value of the variable, followed by the type (or data-type) of that variable.\n",
    "\n",
    "print(counter,\"--->\",type(counter))\n",
    "print(miles,\"--->\",type(counter))\n",
    "print(name,\"--->\",type(name))"
   ]
  },
  {
   "cell_type": "code",
   "execution_count": null,
   "id": "7a5cf8d6",
   "metadata": {},
   "outputs": [],
   "source": [
    "# MULTIPLE ASSIGNMENT\n",
    "\n",
    "# Multiple variables can be assigned the same value together in a statement.\n",
    "\n",
    "a = b = c = 100\n",
    "print(\"The sum of a, b and c is :\",a+b+c)\n",
    "\n",
    "# Multiple variables can also be assigned individual values simultaneously and correspondingly,\n",
    "\n",
    "x,y,z = 1,2,\"john\"\n",
    "print(\"x :\",x)\n",
    "print(\"y :\",y)\n",
    "print(\"z :\",z)"
   ]
  },
  {
   "cell_type": "code",
   "execution_count": null,
   "id": "559fb040",
   "metadata": {},
   "outputs": [],
   "source": [
    "# STANDARD DATA TYPES\n",
    "\n",
    "# The standard data types are : \n",
    "#     Number\n",
    "#     String\n",
    "#     List\n",
    "#     Tuple\n",
    "#     Dictionary"
   ]
  },
  {
   "cell_type": "code",
   "execution_count": null,
   "id": "688ab436",
   "metadata": {},
   "outputs": [],
   "source": [
    "# PYTHON NUMBERS\n",
    "\n",
    "# Use the '=' operator to assign values to a variable\n",
    "\n",
    "print(\"Assigning numeric values to variables...\")\n",
    "v1 = 1\n",
    "v2 = 10\n",
    "v3 = 100\n",
    "print(\"v1 =\",v1,\", v2 =\",v2,\", v3 =\",v3)\n",
    "\n",
    "# You can delete the reference to a number object by using the 'del' statement.\n",
    "\n",
    "print(\"\\nDeleting the numeric variables...\")\n",
    "del v1, v2\n",
    "del v3\n",
    "print(v1,v2,v3)"
   ]
  },
  {
   "cell_type": "code",
   "execution_count": null,
   "id": "070e4e5c",
   "metadata": {},
   "outputs": [],
   "source": [
    "# Python support 3 different numeric types:\n",
    "    # int (signed integers)\n",
    "    # float (floating point real values)\n",
    "    # complex (complex numbers)"
   ]
  },
  {
   "cell_type": "code",
   "execution_count": null,
   "id": "22da92a0",
   "metadata": {},
   "outputs": [],
   "source": [
    "# PYTHON STRINGS\n",
    "\n",
    "# Strings are a contiguous set of characters enclosed within quotation marks (single/double).\n",
    "# Python allows the usage of both single and double quotes to enclose strings.\n",
    "# Subsets of strings can be extracted using the slice operator ([] and [:])\n",
    "# Indexes in a string begin from 0 and end at (n-1) while traversing from left to right.\n",
    "# Indexes also begin from -1 and end at -n while traversing from right to left.\n",
    "# + --> string concatentaion operator\n",
    "# * --> string repetition operator\n",
    "\n",
    "str = \"Hello World!\"\n",
    "print(str,'--->',type(str))\n",
    "print(str[-1])\n",
    "print(str[-6])\n",
    "print(str[-6:-1])\n",
    "print(str[-6:])\n",
    "print(str[0])\n",
    "print(str[2:5])\n",
    "print(str[2:])\n",
    "print(str * 2)\n",
    "print(str + \"TEST\")"
   ]
  },
  {
   "cell_type": "code",
   "execution_count": null,
   "id": "1a925bdf",
   "metadata": {},
   "outputs": [],
   "source": [
    "# PYTHON LISTS\n",
    "\n",
    "# A list contains items separated by commas and enclosed within square brackets ([]).\n",
    "# Lists are mutable (read-write).\n",
    "# Lists are heterogenous.\n",
    "# Strings may also be treated as a list of characters.\n",
    "# The same operations apply to strings as well as lists.\n",
    "\n",
    "list = ['abcd',786,2.23,\"john\",70.2]\n",
    "tinylist = [123,\"john\"]\n",
    "\n",
    "print(list,'--->',type(list))\n",
    "print(tinylist)\n",
    "print(list[1:3])\n",
    "print(list[2:])\n",
    "print(tinylist * 2,\"--->\",type(tinylist * 2))\n",
    "print(list + tinylist,\"--->\",type(list + tinylist))"
   ]
  },
  {
   "cell_type": "code",
   "execution_count": null,
   "id": "8fb30922",
   "metadata": {},
   "outputs": [],
   "source": [
    "# PYTHON TUPLES\n",
    "\n",
    "# A tuple contains items separated by commas and enclosed within parentheses (()).\n",
    "# Tuples are immutable (read-only).\n",
    "# Tuples are heterogenous.\n",
    "\n",
    "tuple = ('abcd',786,2.23,'john',700.2)\n",
    "tinytuple = (123,'john')\n",
    "\n",
    "print(tuple,'--->',type(tuple))\n",
    "print(tuple[0])\n",
    "print(tuple[-1])\n",
    "print(tuple[-3])\n",
    "print(tuple[1:3])\n",
    "print(tuple[2:])\n",
    "print(tinytuple * 2,\"--->\",type(tinytuple * 2))\n",
    "print(tuple + tinytuple,\"--->\",type(tuple + tinytuple))\n",
    "\n",
    "# The following code will demonstrate the immutability of a tuple, as compared to a list.\n",
    "# N.B. : Uncomment the commented lines below in order to see the demonstration and the resulting errors.\n",
    "\n",
    "tuple = ( 'abcd', 786 , 2.23, 'john', 70.2  )\n",
    "list = [ 'abcd', 786 , 2.23, 'john', 70.2  ]\n",
    "# tuple[2] = 1000\n",
    "list[2] = 1000\n",
    "# print(\"Modified tuple is :\", tuple)\n",
    "print(\"Modified list is :\", list)"
   ]
  },
  {
   "cell_type": "code",
   "execution_count": null,
   "id": "5ab3876e",
   "metadata": {},
   "outputs": [],
   "source": [
    "# PYTHON DICTIONARY\n",
    "\n",
    "# A dictionary is a list of key-value pairs separated by commas and enclosed within curly brackets ({}).\n",
    "# Dictionaries are a kind of hash-table type.\n",
    "# The individual values can be accessed by referencing their respective/corresponding keys using the [] brackets.\n",
    "# keys() method : fetches the keys constituting the dictionary.\n",
    "# values() method : fetches the values of all the keys constituting the dictionary.\n",
    "# Dictionary elements are simply unordered, as they are not arranged in any specific order inside the dictionary itself.\n",
    "\n",
    "dict = {}\n",
    "dict['one'] = \"This is one\"\n",
    "dict[2] = \"This is two\"\n",
    "tinydict = {'name':'john','code':6734,'dept':'sales'}\n",
    "\n",
    "print(dict,'--->',type(dict))\n",
    "print(tinydict)\n",
    "print(dict['one'])\n",
    "# print(dict['two'])\n",
    "print(dict[2])\n",
    "print(tinydict.keys())\n",
    "print(tinydict.values())"
   ]
  },
  {
   "cell_type": "markdown",
   "id": "cf2ea007",
   "metadata": {},
   "source": [
    "## BASIC OPERATORS"
   ]
  },
  {
   "cell_type": "code",
   "execution_count": null,
   "id": "4c663b61",
   "metadata": {},
   "outputs": [],
   "source": [
    "# TYPES OF OPERATORS\n",
    "\n",
    "# Arithmetic\n",
    "# Comparison/Relational\n",
    "# Assignments\n",
    "# Logical\n",
    "# Bitwise\n",
    "# Membership\n",
    "# Identity"
   ]
  },
  {
   "cell_type": "code",
   "execution_count": null,
   "id": "45a72958",
   "metadata": {},
   "outputs": [],
   "source": [
    "# ARITHMETIC OPERATORS\n",
    "\n",
    "a = 10\n",
    "b = 21\n",
    "print(\"a =\",a,\", b =\",b)\n",
    "print('a+b =',a+b)\n",
    "print('a-b =',a-b)\n",
    "print('b-a =',b-a)\n",
    "print('a*b =',a*b)\n",
    "print('b/a =',b/a)\n",
    "print('b%a = ',b%a)\n",
    "print('a**b =',a**b)\n",
    "print('b//a =',b//a)"
   ]
  },
  {
   "cell_type": "code",
   "execution_count": null,
   "id": "aea559f9",
   "metadata": {},
   "outputs": [],
   "source": [
    "# PYTHON COMARISON OPERATORS\n",
    "\n"
   ]
  },
  {
   "cell_type": "markdown",
   "id": "0eb4dc49",
   "metadata": {},
   "source": [
    "## DECISION-MAKING"
   ]
  },
  {
   "cell_type": "code",
   "execution_count": null,
   "id": "80009ff5",
   "metadata": {},
   "outputs": [],
   "source": [
    "# Python assumes any non-zero and non-null values as TRUE, and any zero or null values as FALSE.\n",
    "# Python provides the following types of decision-making statements:\n",
    "    # if\n",
    "    # if...else\n",
    "    # if...elif...else\n",
    "    # nested if\n",
    "\n",
    "# =====================\n",
    "# if Statement\n",
    "# =====================\n",
    "\n",
    "var1 = 100\n",
    "if var1:\n",
    "    print(\"1 - Got a true expression value!\")\n",
    "    print(var1)\n",
    "print(\"####################################################\")\n",
    "    \n",
    "var2 = 0\n",
    "if var2:\n",
    "    print(\"2 - Got a true expression value!\")\n",
    "    print(var2)\n",
    "print(\"Block not executed. Value was false!\")\n",
    "print(\"####################################################\")\n",
    "\n",
    "# =====================\n",
    "# if...else Statement\n",
    "# =====================\n",
    "\n",
    "amount = int(input(\"Enter amount:\"))\n",
    "\n",
    "if amount < 1000:\n",
    "    discount = amount * 0.05\n",
    "    print(\"Discount :\",discount)\n",
    "else:\n",
    "    discount = amount* 0.10\n",
    "    print(\"Discount :\",discount)\n",
    "print(\"Net payable :\", amount - discount)\n",
    "print(\"####################################################\")\n",
    "\n",
    "# =============================\n",
    "# if...elif...else Statement\n",
    "# =============================\n",
    "\n",
    "amount = int(input(\"Enter amount:\"))\n",
    "\n",
    "if amount < 1000:\n",
    "    discount = amount * 0.05\n",
    "    print(\"Discount :\",discount)\n",
    "elif amount < 5000:\n",
    "    discount = amount * 0.10\n",
    "    print(\"Discount :\",discount)\n",
    "elif amount < 10000:\n",
    "    discount = amount * 0.20\n",
    "    print(\"Discount :\",discount)\n",
    "else:\n",
    "    discount = amount * 0.40\n",
    "    print(\"Discount :\",discount)\n",
    "\n",
    "print(\"Net payable :\", amount - discount)\n",
    "print(\"####################################################\")\n",
    "\n",
    "# =============================\n",
    "# Nested \"if\" Statement\n",
    "# =============================\n",
    "\n",
    "num = int(input(\"Enter a number:\"))\n",
    "\n",
    "if num%2 == 0:\n",
    "    if num%3 == 0:\n",
    "        print(\"The number is divisible by 2 and 3!\")\n",
    "    else:\n",
    "        print(\"The number is divisible by 2 but not 3!\")\n",
    "else:\n",
    "    if num%3 == 0:\n",
    "        print(\"The number is divisible by 3 ONLY!\")\n",
    "    else:\n",
    "        print(\"The number is divisible neither by 2 nor by 3!\")\n",
    "print(\"####################################################\")\n",
    "\n",
    "# =============================\n",
    "# One-line \"if\" clause\n",
    "# =============================\n",
    "\n",
    "# This does not apply if an \"if\" statement has an accompanying \"else\" clause.\n",
    "\n",
    "var = 100\n",
    "if (var == 100): print(\"The value is 100!\")\n",
    "print(\"Good Bye!\")"
   ]
  },
  {
   "cell_type": "markdown",
   "id": "11958b40",
   "metadata": {},
   "source": [
    "## LOOPS"
   ]
  },
  {
   "cell_type": "markdown",
   "id": "14922b70",
   "metadata": {},
   "source": [
    "Loop structures in Python :\n",
    "\n",
    "1. \"while\" loop\n",
    "2. \"for\" loop\n",
    "3. nested loops"
   ]
  },
  {
   "cell_type": "code",
   "execution_count": 1,
   "id": "f9c6acb4",
   "metadata": {
    "scrolled": true
   },
   "outputs": [
    {
     "name": "stdout",
     "output_type": "stream",
     "text": [
      "The count is : 0\n",
      "The count is : 1\n",
      "The count is : 2\n",
      "The count is : 3\n",
      "The count is : 4\n",
      "The count is : 5\n",
      "The count is : 6\n",
      "The count is : 7\n",
      "The count is : 8\n",
      "Good bye!\n",
      "####################################################\n",
      "The count is : 0\n",
      "The count is : 1\n",
      "The count is : 2\n",
      "The count is : 3\n",
      "The count is : 4\n",
      "We have left the loop now! The count is: 5\n",
      "####################################################\n",
      "EXIT NOW!\n",
      "####################################################\n"
     ]
    }
   ],
   "source": [
    "# ===========================================\n",
    "# \"while\" Loop\n",
    "# ===========================================\n",
    "\n",
    "count = 0\n",
    "while (count < 9):\n",
    "    print(\"The count is :\",count)\n",
    "    count += 1\n",
    "print(\"Good bye!\")\n",
    "print(\"####################################################\")\n",
    "\n",
    "# ===========================================\n",
    "# Using \"else\" statement with \"while\" loop\n",
    "# ===========================================\n",
    "\n",
    "# Adding an \"else\" clause to the \"while\" loop allows for a graceful exit from the loop.\n",
    "\n",
    "count = 0\n",
    "while (count < 5):\n",
    "    print(\"The count is :\",count)\n",
    "    count += 1\n",
    "else:\n",
    "    print(\"We have left the loop now! The count is:\",count)\n",
    "\n",
    "print(\"####################################################\")\n",
    "\n",
    "# ===========================================\n",
    "# Single-line \"while\" statement\n",
    "# ===========================================\n",
    "\n",
    "name = ''\n",
    "while(name): print(\"Name is good!\")\n",
    "print(\"EXIT NOW!\")\n",
    "print(\"####################################################\")\n",
    "\n",
    "# The following code block causes execution to go into a loop, hence it has been commented out.\n",
    "# If you execute it, you will need to go to the option Kernel --> Restart & Clear Output in the menu.\n",
    "\n",
    "# flag = 1\n",
    "# while(flag): print(\"Flag is true!\")\n",
    "# else:\n",
    "#     print(\"Flag false!\")"
   ]
  },
  {
   "cell_type": "code",
   "execution_count": 5,
   "id": "1f18e2d9",
   "metadata": {},
   "outputs": [
    {
     "name": "stdout",
     "output_type": "stream",
     "text": [
      "range(0, 5)\n",
      "<class 'range'>\n",
      "range(0, 5)\n",
      "<class 'range'>\n",
      "<class 'list'>\n",
      "Current letter : P\n",
      "Current letter : y\n",
      "Current letter : t\n",
      "Current letter : h\n",
      "Current letter : o\n",
      "Current letter : n\n",
      "####################################################\n",
      "Current fruit : banana\n",
      "Current fruit : apple\n",
      "Current fruit : mango\n",
      "Good bye!\n",
      "####################################################\n",
      "Current fruit : banana\n",
      "Current fruit : apple\n",
      "Current fruit : mango\n",
      "Good bye!\n",
      "The list contains an even number! --> 22\n"
     ]
    }
   ],
   "source": [
    "# ===========================================\n",
    "# \"for\" Loop\n",
    "# ===========================================\n",
    "\n",
    "# The \"for\" statement has the ability to iterate over the items of any sequence, such as a list or string.\n",
    "# The \"range()\" function allows the iterating variable to iterate over a sequence of numbers.\n",
    "# The \"range()\" function generates an iterator of arithmetic progressions.\n",
    "\n",
    "print(range(5))\n",
    "print(type(range(5)))\n",
    "\n",
    "x = range(5)\n",
    "print(x)\n",
    "print(type(x))\n",
    "\n",
    "list(range(0,5))\n",
    "print(type(list(range(0,5))))\n",
    "\n",
    "'''\n",
    "for var in list(range(0,5)):\n",
    "    print(var)\n",
    "'''\n",
    "\n",
    "for letter in 'Python':\n",
    "    print(\"Current letter :\", letter)\n",
    "print(\"####################################################\")\n",
    "\n",
    "fruits = ['banana','apple','mango']\n",
    "for fruit in fruits:\n",
    "    print(\"Current fruit :\", fruit)\n",
    "print(\"Good bye!\")\n",
    "print(\"####################################################\")\n",
    "\n",
    "# Iterating by sequence index\n",
    "\n",
    "fruits = ['banana','apple','mango']\n",
    "for index in range(len(fruits)):\n",
    "    print(\"Current fruit :\", fruits[index])\n",
    "print(\"Good bye!\")\n",
    "\n",
    "# Using \"else\" statement with \"for\" loop\n",
    "\n",
    "numbers = [11,33,55,39,55,22,75,37,44,21,23,41,13]\n",
    "\n",
    "for num in numbers:\n",
    "    if num%2 == 0:\n",
    "        print(\"The list contains an even number! -->\",num)\n",
    "        break\n",
    "else:\n",
    "    print(\"The list does not contain even numbers!\")\n",
    "\n",
    "# Nested Loop\n"
   ]
  },
  {
   "cell_type": "markdown",
   "id": "3a9fef87",
   "metadata": {},
   "source": [
    "## NUMBERS"
   ]
  },
  {
   "cell_type": "code",
   "execution_count": 6,
   "id": "68762764",
   "metadata": {},
   "outputs": [
    {
     "name": "stdout",
     "output_type": "stream",
     "text": [
      "var1 : 10 , var2 : 20  and var3 : 30\n"
     ]
    },
    {
     "ename": "NameError",
     "evalue": "name 'var1' is not defined",
     "output_type": "error",
     "traceback": [
      "\u001b[1;31m---------------------------------------------------------------------------\u001b[0m",
      "\u001b[1;31mNameError\u001b[0m                                 Traceback (most recent call last)",
      "\u001b[1;32mC:\\Users\\Public\\Documents\\Wondershare\\CreatorTemp\\ipykernel_299380\\2597711495.py\u001b[0m in \u001b[0;36m<module>\u001b[1;34m\u001b[0m\n\u001b[0;32m     10\u001b[0m \u001b[1;32mdel\u001b[0m \u001b[0mvar1\u001b[0m\u001b[1;33m\u001b[0m\u001b[1;33m\u001b[0m\u001b[0m\n\u001b[0;32m     11\u001b[0m \u001b[1;32mdel\u001b[0m \u001b[0mvar2\u001b[0m\u001b[1;33m,\u001b[0m \u001b[0mvar3\u001b[0m\u001b[1;33m\u001b[0m\u001b[1;33m\u001b[0m\u001b[0m\n\u001b[1;32m---> 12\u001b[1;33m \u001b[0mprint\u001b[0m\u001b[1;33m(\u001b[0m\u001b[1;34m\"var1 :\"\u001b[0m\u001b[1;33m,\u001b[0m\u001b[0mvar1\u001b[0m\u001b[1;33m,\u001b[0m\u001b[1;34m\", var2 :\"\u001b[0m\u001b[1;33m,\u001b[0m\u001b[0mvar2\u001b[0m\u001b[1;33m,\u001b[0m\u001b[1;34m\" and var3 :\"\u001b[0m\u001b[1;33m,\u001b[0m\u001b[0mvar3\u001b[0m\u001b[1;33m)\u001b[0m\u001b[1;33m\u001b[0m\u001b[1;33m\u001b[0m\u001b[0m\n\u001b[0m",
      "\u001b[1;31mNameError\u001b[0m: name 'var1' is not defined"
     ]
    }
   ],
   "source": [
    "# Number data types store numeric values\n",
    "# Number data types are immutable, i.e., changing the value of a number data type results in a newly allocated object.\n",
    "\n",
    "# ===========================================\n",
    "# \"del\" statement\n",
    "# ===========================================\n",
    "\n",
    "var1 = 10\n",
    "var2 = 20\n",
    "var3 = 30\n",
    "print(\"var1 :\",var1,\", var2 :\",var2,\" and var3 :\",var3)\n",
    "del var1\n",
    "del var2, var3\n",
    "print(\"var1 :\",var1,\", var2 :\",var2,\" and var3 :\",var3)\n",
    "\n"
   ]
  },
  {
   "cell_type": "markdown",
   "id": "f5cdbd33",
   "metadata": {},
   "source": [
    "Python supports 3 different numerical data types:\n",
    "    \n",
    "- int (signed integers)\n",
    "    - Python 3 does not have any \"long int\" anymore. It is simply \"int\".\n",
    "- float (floating point real values)\n",
    "    - Float values can be written in decimal format or exponential format.\n",
    "- complex (complex numbers)\n",
    "    - They are of the form (a+ib), where a and b are float values, and i is the square root of -1.\n",
    "    - a is the real part, and b is the imaginary part."
   ]
  },
  {
   "cell_type": "code",
   "execution_count": 13,
   "id": "a666cad8",
   "metadata": {},
   "outputs": [
    {
     "name": "stdout",
     "output_type": "stream",
     "text": [
      "2575\n",
      "31\n",
      "89774742\n"
     ]
    }
   ],
   "source": [
    "number = 0xA0F # representing a number in hexadecimal format, where the prefix is \"0x\"\n",
    "print(number)  # the number will be printed in decimal format and equivalent value\n",
    "\n",
    "number = 0o37 # representing a number in hexadecimal format, where the prefix is \"0o\"\n",
    "print(number) # the number will be printed in decimal format and equivalent value\n",
    "\n",
    "number = 0b0101010110011101101010010110 # representing a number in binary format, where the prefix is \"0b\"\n",
    "print(number)                           # the number will be printed in decimal format and equivalent value\n"
   ]
  },
  {
   "cell_type": "code",
   "execution_count": null,
   "id": "28412728",
   "metadata": {},
   "outputs": [],
   "source": []
  }
 ],
 "metadata": {
  "kernelspec": {
   "display_name": "Python 3 (ipykernel)",
   "language": "python",
   "name": "python3"
  },
  "language_info": {
   "codemirror_mode": {
    "name": "ipython",
    "version": 3
   },
   "file_extension": ".py",
   "mimetype": "text/x-python",
   "name": "python",
   "nbconvert_exporter": "python",
   "pygments_lexer": "ipython3",
   "version": "3.9.13"
  }
 },
 "nbformat": 4,
 "nbformat_minor": 5
}
