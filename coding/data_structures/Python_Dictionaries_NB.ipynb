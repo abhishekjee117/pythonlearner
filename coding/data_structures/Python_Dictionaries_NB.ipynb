{
 "cells": [
  {
   "cell_type": "markdown",
   "id": "1b86620a",
   "metadata": {},
   "source": [
    "# <u>PYTHON DICTIONARIES</u>"
   ]
  },
  {
   "cell_type": "markdown",
   "id": "963da6e2",
   "metadata": {},
   "source": [
    "# <font color=\"red\">How to Iterate Through a Dictionary in Python</font>\n",
    "<b>Source</b> : https://realpython.com/iterate-through-dictionary-python/#using-comprehensions\n",
    "\n",
    "This page has a number of links that visit other concepts. Make sure you explore ALL of them."
   ]
  },
  {
   "cell_type": "markdown",
   "id": "c5d01ed6",
   "metadata": {},
   "source": [
    "- A Few Words on Dictionaries\n",
    "- How to Iterate Through a Dictionary in Python: The Basics\n",
    "\t- Iterating Through Keys Directly\n",
    "\t- Iterating Through .items()\n",
    "\t- Iterating Through .keys()\n",
    "\t- Iterating Through .values()\n",
    "- Modifying Values and Keys\n",
    "- Real-World Examples\n",
    "\t- Turning Keys Into Values and Vice Versa\n",
    "\t- Filtering Items\n",
    "\t- Doing Some Calculations\n",
    "- Using Comprehensions\n",
    "\t- Turning Keys Into Values and Vice Versa: Revisited\n",
    "\t- Filtering Items: Revisited\n",
    "\t- Doing Some Calculations: Revisited\n",
    "\t- Removing Specific Items\n",
    "\t- Sorting a Dictionary\n",
    "- Iterating in Sorted Order\n",
    "\t- Sorted by Keys\n",
    "\t- Sorted by Values\n",
    "\t- Reversed\n",
    "- Iterating Destructively With .popitem()\n",
    "- Using Some of Python’s Built-In Functions\n",
    "\t- map()\n",
    "\t- filter()\n",
    "- Using collections.ChainMap\n",
    "- Using itertools\n",
    "\t- Cyclic Iteration With cycle()\n",
    "\t- Chained Iteration With chain()\n",
    "- Using the Dictionary Unpacking Operator (**)\n",
    "- Conclusion"
   ]
  },
  {
   "cell_type": "markdown",
   "id": "0d813694",
   "metadata": {},
   "source": [
    "- Python's official documentation defines a dictionary as an <b>associative array</b>, where arbitrary keys are mapped to values.\n",
    "- Those keys can be any object with <b>`__hash()__`</b> and <b>`__eq()__`</b> methods.\n",
    "\n",
    "- Python 3.5 onwards, the dictionaries are unordered and randomized.\n",
    "    - It means that if you enter <b>key:value</b> pairs into a dictionary, then the order in which they are displayed/returned is different in different sessions.\n",
    "\n",
    "- Since dictionaries are mutable data structures themselves, they cannot be used as values in other dictionaries. In other words, it is impossible to have nested dictionaries."
   ]
  },
  {
   "cell_type": "markdown",
   "id": "82419313",
   "metadata": {},
   "source": [
    "## <b>How to Iterate Through a Dictionary in Python: The Basics</b> "
   ]
  },
  {
   "cell_type": "markdown",
   "id": "96d74df8",
   "metadata": {},
   "source": [
    "### <b>Iterating Through Keys Directly</b>"
   ]
  },
  {
   "cell_type": "code",
   "execution_count": 25,
   "id": "6a67633a",
   "metadata": {},
   "outputs": [
    {
     "data": {
      "text/plain": [
       "['__class__',\n",
       " '__class_getitem__',\n",
       " '__contains__',\n",
       " '__delattr__',\n",
       " '__delitem__',\n",
       " '__dir__',\n",
       " '__doc__',\n",
       " '__eq__',\n",
       " '__format__',\n",
       " '__ge__',\n",
       " '__getattribute__',\n",
       " '__getitem__',\n",
       " '__gt__',\n",
       " '__hash__',\n",
       " '__init__',\n",
       " '__init_subclass__',\n",
       " '__ior__',\n",
       " '__iter__',\n",
       " '__le__',\n",
       " '__len__',\n",
       " '__lt__',\n",
       " '__ne__',\n",
       " '__new__',\n",
       " '__or__',\n",
       " '__reduce__',\n",
       " '__reduce_ex__',\n",
       " '__repr__',\n",
       " '__reversed__',\n",
       " '__ror__',\n",
       " '__setattr__',\n",
       " '__setitem__',\n",
       " '__sizeof__',\n",
       " '__str__',\n",
       " '__subclasshook__',\n",
       " 'clear',\n",
       " 'copy',\n",
       " 'fromkeys',\n",
       " 'get',\n",
       " 'items',\n",
       " 'keys',\n",
       " 'pop',\n",
       " 'popitem',\n",
       " 'setdefault',\n",
       " 'update',\n",
       " 'values']"
      ]
     },
     "execution_count": 25,
     "metadata": {},
     "output_type": "execute_result"
    }
   ],
   "source": [
    "# The dir() built-in function lists all the methods and attributes that dictionaries implement internally\n",
    "# to perform some operations.\n",
    "\n",
    "# The output is of \"list\" type\n",
    "\n",
    "dir({})"
   ]
  },
  {
   "cell_type": "code",
   "execution_count": 24,
   "id": "be368695",
   "metadata": {},
   "outputs": [
    {
     "name": "stdout",
     "output_type": "stream",
     "text": [
      "color -> blue\n",
      "<class 'str'> -> <class 'str'>\n",
      "fruit -> apple\n",
      "<class 'str'> -> <class 'str'>\n",
      "pet -> dog\n",
      "<class 'str'> -> <class 'str'>\n"
     ]
    }
   ],
   "source": [
    "a_dict = {\n",
    "    'color':'blue',\n",
    "    'fruit':'apple',\n",
    "    'pet':'dog'\n",
    "}\n",
    "\n",
    "# The counter \"key\" will iterate over the individual keys of the dictionary \"a_dict\"\n",
    "for key in a_dict:\n",
    "    print(key,'->',a_dict[key])\n",
    "    print(type(key),\"->\",type(a_dict[key]))"
   ]
  },
  {
   "cell_type": "markdown",
   "id": "984342f6",
   "metadata": {},
   "source": [
    "### Iterating Through .items()"
   ]
  },
  {
   "cell_type": "code",
   "execution_count": 26,
   "id": "90bde1a3",
   "metadata": {},
   "outputs": [
    {
     "name": "stdout",
     "output_type": "stream",
     "text": [
      "dict_items([('color', 'blue'), ('fruit', 'apple'), ('pet', 'dog')]) -> <class 'dict_items'>\n",
      "('color', 'blue') -> <class 'tuple'>\n",
      "('fruit', 'apple') -> <class 'tuple'>\n",
      "('pet', 'dog') -> <class 'tuple'>\n",
      "Key --> color  Value --> blue\n",
      "Key --> fruit  Value --> apple\n",
      "Key --> pet  Value --> dog\n"
     ]
    }
   ],
   "source": [
    "# The items() method is used to return the individual key:value pairs of the dictionary.\n",
    "# All of the individual key:value pairs are the individual items.\n",
    "# The resulting list is of \"dict_items\" type.\n",
    "\n",
    "a_dict = {\n",
    "    'color':'blue',\n",
    "    'fruit':'apple',\n",
    "    'pet':'dog'\n",
    "}\n",
    "\n",
    "d_items = a_dict.items()\n",
    "\n",
    "print(d_items,\"->\",type(d_items))\n",
    "\n",
    "# The following code-snippet returns the individual key:value pairs in a dictionary as a tuple.\n",
    "\n",
    "for item in a_dict.items():\n",
    "    print(item,\"->\",type(item))\n",
    "    \n",
    "# The following code-snippet assigns a key:value pair for every iteration of the header \"key,value\", in that order.\n",
    "\n",
    "for key,value in a_dict.items():\n",
    "    print(\"Key -->\",key,\" Value -->\",value)"
   ]
  },
  {
   "cell_type": "code",
   "execution_count": null,
   "id": "93e777b5",
   "metadata": {},
   "outputs": [],
   "source": []
  }
 ],
 "metadata": {
  "kernelspec": {
   "display_name": "Python 3 (ipykernel)",
   "language": "python",
   "name": "python3"
  },
  "language_info": {
   "codemirror_mode": {
    "name": "ipython",
    "version": 3
   },
   "file_extension": ".py",
   "mimetype": "text/x-python",
   "name": "python",
   "nbconvert_exporter": "python",
   "pygments_lexer": "ipython3",
   "version": "3.10.9"
  }
 },
 "nbformat": 4,
 "nbformat_minor": 5
}
