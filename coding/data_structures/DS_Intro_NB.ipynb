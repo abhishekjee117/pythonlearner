{
 "cells": [
  {
   "cell_type": "markdown",
   "id": "1ba9a1f2",
   "metadata": {},
   "source": [
    "# <u>DATA STRUCTURES</u>"
   ]
  },
  {
   "cell_type": "markdown",
   "id": "eb0dfca5",
   "metadata": {},
   "source": [
    "# <font color=\"red\">COMMON PYTHON DATA STRUCTURES</font>\n",
    "<b>Source</b> : https://realpython.com/python-data-structures/\n",
    "\n",
    "This page has a number of links that visit other concepts. Make sure you explore ALL of them."
   ]
  },
  {
   "cell_type": "markdown",
   "id": "ed324616",
   "metadata": {},
   "source": [
    "## <font color=\"#FF6600\">DICTIONARIES, MAPS AND HASH TABLES</font>"
   ]
  },
  {
   "cell_type": "markdown",
   "id": "42774ba1",
   "metadata": {},
   "source": [
    "- Dictionaries aka\n",
    "    - maps\n",
    "    - hashmaps\n",
    "    - lookup tables\n",
    "    - associative arrays\n",
    "- Dictionaries allow for the efficient lookup, updation, insertion and deletion of any object associated with a given key.\n",
    "- Data type of dictionary is <b>dict</b>"
   ]
  },
  {
   "cell_type": "code",
   "execution_count": 2,
   "id": "e25dd531",
   "metadata": {},
   "outputs": [
    {
     "name": "stdout",
     "output_type": "stream",
     "text": [
      "{'bob': 7387, 'alice': 3719, 'jack': 7052}\n",
      "<class 'dict'>\n",
      "{0: 0, 1: 1, 2: 4, 3: 9, 4: 16, 5: 25}\n",
      "<class 'dict'>\n",
      "3719\n"
     ]
    }
   ],
   "source": [
    "phonebook = {\n",
    "    \"bob\":7387,\n",
    "    \"alice\":3719,\n",
    "    \"jack\":7052\n",
    "}\n",
    "\n",
    "squares = {x:x*x for x in range(6)}\n",
    "\n",
    "print(phonebook)\n",
    "print(type(phonebook))\n",
    "print(squares)\n",
    "print(type(squares))\n",
    "\n",
    "print(phonebook[\"alice\"])"
   ]
  },
  {
   "cell_type": "markdown",
   "id": "6c6cb770",
   "metadata": {},
   "source": [
    "- Python dictionaries are indexed by keys that can be of any hashable type.\n",
    "- Hashable means that the value never changes during its lifetime.\n",
    "    - e.g. : immutable data types (strings, numbers)\n",
    "    - e.g. : tuples (as long as the they contain hashable types themselves)\n",
    "    \n",
    "- Specialized dictionary implementations:\n",
    "    - collections.OrderedDict\n",
    "    - collections.defaultdict\n",
    "    - collections.ChainMap\n",
    "    - types.MappingProxyType"
   ]
  },
  {
   "cell_type": "markdown",
   "id": "c3698a5d",
   "metadata": {},
   "source": [
    "### collections.OrderedDict"
   ]
  },
  {
   "cell_type": "markdown",
   "id": "9acaff13",
   "metadata": {},
   "source": [
    "- This <b>dict</b> remembers the order in which the keys were inserted into the dictionary.\n",
    "- "
   ]
  },
  {
   "cell_type": "code",
   "execution_count": null,
   "id": "769abde8",
   "metadata": {},
   "outputs": [],
   "source": []
  },
  {
   "cell_type": "markdown",
   "id": "8a9fcd4b",
   "metadata": {},
   "source": [
    "### collections.defaultdict"
   ]
  },
  {
   "cell_type": "markdown",
   "id": "e518c4e3",
   "metadata": {},
   "source": []
  },
  {
   "cell_type": "code",
   "execution_count": null,
   "id": "6af99287",
   "metadata": {},
   "outputs": [],
   "source": []
  },
  {
   "cell_type": "markdown",
   "id": "c7a83d0d",
   "metadata": {},
   "source": [
    "### collections.ChainMap"
   ]
  },
  {
   "cell_type": "markdown",
   "id": "3dcd5807",
   "metadata": {},
   "source": []
  },
  {
   "cell_type": "code",
   "execution_count": null,
   "id": "dc49dbc3",
   "metadata": {},
   "outputs": [],
   "source": []
  },
  {
   "cell_type": "markdown",
   "id": "116ba6db",
   "metadata": {},
   "source": [
    "### types.MappingProxyType"
   ]
  },
  {
   "cell_type": "markdown",
   "id": "d897eea7",
   "metadata": {},
   "source": []
  },
  {
   "cell_type": "code",
   "execution_count": null,
   "id": "f35f58be",
   "metadata": {},
   "outputs": [],
   "source": []
  }
 ],
 "metadata": {
  "kernelspec": {
   "display_name": "Python 3 (ipykernel)",
   "language": "python",
   "name": "python3"
  },
  "language_info": {
   "codemirror_mode": {
    "name": "ipython",
    "version": 3
   },
   "file_extension": ".py",
   "mimetype": "text/x-python",
   "name": "python",
   "nbconvert_exporter": "python",
   "pygments_lexer": "ipython3",
   "version": "3.10.9"
  }
 },
 "nbformat": 4,
 "nbformat_minor": 5
}
