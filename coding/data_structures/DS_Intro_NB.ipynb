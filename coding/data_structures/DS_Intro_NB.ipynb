{
 "cells": [
  {
   "cell_type": "markdown",
   "id": "14d733bf",
   "metadata": {},
   "source": [
    "# <u>DATA STRUCTURES</u>"
   ]
  },
  {
   "cell_type": "markdown",
   "id": "b0fd88af",
   "metadata": {},
   "source": [
    "# <font color=\"red\">COMMON PYTHON DATA STRUCTURES</font>\n",
    "<b>Source</b> : https://realpython.com/python-data-structures/\n",
    "\n",
    "This page has a number of links that visit other concepts. Make sure you explore ALL of them."
   ]
  },
  {
   "cell_type": "markdown",
   "id": "f3b88ea8",
   "metadata": {},
   "source": [
    "## <font color=\"#FF6600\">DICTIONARIES, MAPS AND HASH TABLES</font>"
   ]
  },
  {
   "cell_type": "markdown",
   "id": "03a3e0a6",
   "metadata": {},
   "source": [
    "- Dictionaries aka\n",
    "    - maps\n",
    "    - hashmaps\n",
    "    - lookup tables\n",
    "    - associative arrays\n",
    "- Dictionaries allow for the efficient lookup, updation, insertion and deletion of any object associated with a given key.\n",
    "- Data type of dictionary is <b>dict</b>"
   ]
  },
  {
   "cell_type": "code",
   "execution_count": 2,
   "id": "5207719d",
   "metadata": {},
   "outputs": [
    {
     "name": "stdout",
     "output_type": "stream",
     "text": [
      "{'bob': 7387, 'alice': 3719, 'jack': 7052}\n",
      "<class 'dict'>\n",
      "{0: 0, 1: 1, 2: 4, 3: 9, 4: 16, 5: 25}\n",
      "<class 'dict'>\n",
      "3719\n"
     ]
    }
   ],
   "source": [
    "phonebook = {\n",
    "    \"bob\":7387,\n",
    "    \"alice\":3719,\n",
    "    \"jack\":7052\n",
    "}\n",
    "\n",
    "squares = {x:x*x for x in range(6)}\n",
    "\n",
    "print(phonebook)\n",
    "print(type(phonebook))\n",
    "print(squares)\n",
    "print(type(squares))\n",
    "\n",
    "print(phonebook[\"alice\"])"
   ]
  },
  {
   "cell_type": "markdown",
   "id": "fcfff3bf",
   "metadata": {},
   "source": [
    "- Python dictionaries are indexed by keys that can be of any hashable type.\n",
    "- Hashable means that the value never changes during its lifetime.\n",
    "    - e.g. : immutable data types (strings, numbers)\n",
    "    - e.g. : tuples (as long as the they contain hashable types themselves)\n",
    "    \n",
    "- Specialized dictionary implementations:\n",
    "    - collections.OrderedDict\n",
    "    - collections.defaultdict\n",
    "    - collections.ChainMap\n",
    "    - types.MappingProxyType"
   ]
  },
  {
   "cell_type": "markdown",
   "id": "2f5c3111",
   "metadata": {},
   "source": [
    "### collections.OrderedDict"
   ]
  },
  {
   "cell_type": "markdown",
   "id": "79cec2cd",
   "metadata": {},
   "source": [
    "- This <b>dict</b> subclass remembers the order in which the keys were inserted into the dictionary.\n",
    "- To use this subclass, the <b>collections</b> module in the standard library must be imported."
   ]
  },
  {
   "cell_type": "code",
   "execution_count": 11,
   "id": "484f5982",
   "metadata": {},
   "outputs": [
    {
     "name": "stdout",
     "output_type": "stream",
     "text": [
      "OrderedDict([('one', 1), ('two', 2), ('three', 3)])\n",
      "<class 'collections.OrderedDict'>\n",
      "1\n",
      "OrderedDict([('one', 1), ('two', 2), ('three', 3), ('four', 4)])\n"
     ]
    }
   ],
   "source": [
    "import collections as col\n",
    "\n",
    "d = col.OrderedDict(one=1,two=2,three=3)\n",
    "print(d)\n",
    "print(type(d))\n",
    "\n",
    "print(d[\"one\"])\n",
    "\n",
    "d[\"four\"] = 4\n",
    "print(d)"
   ]
  },
  {
   "cell_type": "markdown",
   "id": "1131fd24",
   "metadata": {},
   "source": [
    "- Methods available on the <b>collections.OrderedDict</b> subclass:\n",
    "    - move_to_end()\n",
    "    - popitem()"
   ]
  },
  {
   "cell_type": "code",
   "execution_count": 27,
   "id": "9ba1fc94",
   "metadata": {},
   "outputs": [
    {
     "name": "stdout",
     "output_type": "stream",
     "text": [
      "OrderedDict([('x', 'X'), ('y', 'Y'), ('z', 2312341234)])\n",
      "<class 'collections.OrderedDict'>\n",
      "X\n",
      "OrderedDict([('x', 'X'), ('y', 'Y'), ('z', 2312341234), ('a', 'New')])\n",
      "odict_keys(['x', 'y', 'z', 'a'])\n",
      "odict_values(['X', 'Y', 2312341234, 'New'])\n"
     ]
    }
   ],
   "source": [
    "import collections as col\n",
    "\n",
    "d = col.OrderedDict(x=\"X\",y=\"Y\",z=2312341234)\n",
    "print(d)\n",
    "print(type(d))\n",
    "\n",
    "print(d['x'])\n",
    "\n",
    "d[\"a\"] = \"New\"\n",
    "print(d)\n",
    "\n",
    "print(d.keys())\n",
    "print(d.values())"
   ]
  },
  {
   "cell_type": "markdown",
   "id": "58583703",
   "metadata": {},
   "source": [
    "### collections.defaultdict"
   ]
  },
  {
   "cell_type": "markdown",
   "id": "10887267",
   "metadata": {},
   "source": [
    "- This subclass returns a default values for missing keys.\n",
    "- It accepts a callable in its constructor whose return value will be used if a requested key cannot be found."
   ]
  },
  {
   "cell_type": "code",
   "execution_count": 29,
   "id": "e5fe5387",
   "metadata": {},
   "outputs": [
    {
     "name": "stdout",
     "output_type": "stream",
     "text": [
      "defaultdict(<class 'list'>, {})\n",
      "['Rufus', 'Kathrin', 'Mr Sniffles']\n"
     ]
    }
   ],
   "source": [
    "from collections import defaultdict\n",
    "\n",
    "dd = defaultdict(list)\n",
    "print(dd)\n",
    "\n",
    "dd[\"dogs\"].append(\"Rufus\")\n",
    "dd[\"dogs\"].append(\"Kathrin\")\n",
    "dd[\"dogs\"].append(\"Mr Sniffles\")\n",
    "\n",
    "print(dd[\"dogs\"])"
   ]
  },
  {
   "cell_type": "markdown",
   "id": "fa019456",
   "metadata": {},
   "source": [
    "### collections.ChainMap"
   ]
  },
  {
   "cell_type": "markdown",
   "id": "0be9fc14",
   "metadata": {},
   "source": []
  },
  {
   "cell_type": "code",
   "execution_count": null,
   "id": "164934e0",
   "metadata": {},
   "outputs": [],
   "source": []
  },
  {
   "cell_type": "markdown",
   "id": "f081d04b",
   "metadata": {},
   "source": [
    "### types.MappingProxyType"
   ]
  },
  {
   "cell_type": "markdown",
   "id": "724efa92",
   "metadata": {},
   "source": []
  },
  {
   "cell_type": "code",
   "execution_count": null,
   "id": "031b0357",
   "metadata": {},
   "outputs": [],
   "source": []
  }
 ],
 "metadata": {
  "kernelspec": {
   "display_name": "Python 3 (ipykernel)",
   "language": "python",
   "name": "python3"
  },
  "language_info": {
   "codemirror_mode": {
    "name": "ipython",
    "version": 3
   },
   "file_extension": ".py",
   "mimetype": "text/x-python",
   "name": "python",
   "nbconvert_exporter": "python",
   "pygments_lexer": "ipython3",
   "version": "3.10.9"
  }
 },
 "nbformat": 4,
 "nbformat_minor": 5
}
