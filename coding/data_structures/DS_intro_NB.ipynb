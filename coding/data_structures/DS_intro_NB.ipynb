{
 "cells": [
  {
   "cell_type": "markdown",
   "id": "14cf77a9",
   "metadata": {},
   "source": [
    "# <u>DATA STRUCTURES</u>"
   ]
  },
  {
   "cell_type": "markdown",
   "id": "2107161b",
   "metadata": {},
   "source": [
    "# COMMON PYTHON DATA STRUCTURES (GUIDE)\n",
    "\n",
    "https://realpython.com/python-data-structures/"
   ]
  },
  {
   "cell_type": "markdown",
   "id": "da0e97f5",
   "metadata": {},
   "source": [
    "## DICTIONARIES, MAPS AND HASH TABLES"
   ]
  },
  {
   "cell_type": "code",
   "execution_count": 2,
   "id": "2e4d4d90",
   "metadata": {},
   "outputs": [
    {
     "name": "stdout",
     "output_type": "stream",
     "text": [
      "3719\n",
      "{0: 0, 1: 1, 2: 4, 3: 9, 4: 16, 5: 25}\n"
     ]
    }
   ],
   "source": [
    "phonebook = {\n",
    "        \"bob\":7387,\n",
    "        \"alice\":3719,\n",
    "        \"jack\":7052\n",
    "    }\n",
    "\n",
    "squares = {x:x*x for x in range(6)}\n",
    "\n",
    "print(phonebook[\"alice\"])\n",
    "print(squares)"
   ]
  },
  {
   "cell_type": "markdown",
   "id": "d0edf1b7",
   "metadata": {},
   "source": [
    "### collections.OrderedDict"
   ]
  },
  {
   "cell_type": "markdown",
   "id": "1dd19121",
   "metadata": {},
   "source": [
    "- collections.OrderedDict\n",
    "    - This is a spcialized \"dict\" subclass that remembers the insertion order of keys added to it.\n",
    "    - This subclass belongs to the \"collection\" module of the Python standard library."
   ]
  },
  {
   "cell_type": "code",
   "execution_count": 8,
   "id": "d300d20d",
   "metadata": {
    "scrolled": true
   },
   "outputs": [
    {
     "name": "stdout",
     "output_type": "stream",
     "text": [
      "OrderedDict([('one', 1), ('two', 2), ('three', 3)])\n",
      "<class 'collections.OrderedDict'>\n",
      "OrderedDict([('one', 1), ('two', 2), ('three', 3), ('four', 4)])\n",
      "odict_keys(['one', 'two', 'three', 'four'])\n",
      "odict_values([1, 2, 3, 4])\n"
     ]
    }
   ],
   "source": [
    "import collections\n",
    "\n",
    "d = collections.OrderedDict(one=1,two=2,three=3)\n",
    "\n",
    "print(d)\n",
    "print(type(d))\n",
    "\n",
    "d[\"four\"] = 4\n",
    "print(d)\n",
    "\n",
    "print(d.keys())\n",
    "print(d.values())"
   ]
  },
  {
   "cell_type": "markdown",
   "id": "aa7d7f36",
   "metadata": {},
   "source": [
    "### collections.defaultdict"
   ]
  },
  {
   "cell_type": "markdown",
   "id": "3d50107f",
   "metadata": {},
   "source": [
    "- collections.defaultdict\n",
    "    - It returns a default value for missing keys"
   ]
  },
  {
   "cell_type": "code",
   "execution_count": 13,
   "id": "fffeeec6",
   "metadata": {},
   "outputs": [
    {
     "name": "stdout",
     "output_type": "stream",
     "text": [
      "defaultdict(<class 'list'>, {})\n",
      "[]\n",
      "['Rufus', 'Kathrin', 'Mr Sniffles']\n",
      "[]\n"
     ]
    }
   ],
   "source": [
    "from collections import defaultdict\n",
    "\n",
    "dd = defaultdict(list)\n",
    "print(dd)\n",
    "print(dd[\"dogs\"])\n",
    "\n",
    "dd[\"dogs\"].append(\"Rufus\")\n",
    "dd[\"dogs\"].append(\"Kathrin\")\n",
    "dd[\"dogs\"].append(\"Mr Sniffles\")\n",
    "\n",
    "print(dd[\"dogs\"])\n",
    "print(dd[\"cats\"])"
   ]
  },
  {
   "cell_type": "markdown",
   "id": "64e19b20",
   "metadata": {},
   "source": [
    "### collections.ChainMap"
   ]
  },
  {
   "cell_type": "markdown",
   "id": "84e2c4a1",
   "metadata": {},
   "source": [
    "- collections.ChainMap\n",
    "    - It groups multiple dictionaries into a single mapping.\n",
    "    - Lookups search the underlying mapping one by one until a key is found.\n",
    "    - Insertions, updations and deletions affect only the first mapping added to the chain."
   ]
  },
  {
   "cell_type": "code",
   "execution_count": 27,
   "id": "c91da3a1",
   "metadata": {},
   "outputs": [
    {
     "name": "stdout",
     "output_type": "stream",
     "text": [
      "{'one': 1, 'two': 2} ---> <class 'dict'>\n",
      "{'three': 3, 'four': 4} ---> <class 'dict'>\n",
      "ChainMap({'one': 1, 'two': 2}, {'three': 3, 'four': 4})\n",
      "<class 'collections.ChainMap'>\n",
      "3\n",
      "1\n",
      "{'one': 1, 'two': 2, 'five': 5}\n",
      "ChainMap({'one': 1, 'two': 2, 'five': 5}, {'three': 3, 'four': 4})\n",
      "{'three': 3, 'four': 4, 'six': 6}\n",
      "ChainMap({'one': 1, 'two': 2, 'five': 5}, {'three': 3, 'four': 4, 'six': 6})\n",
      "5\n",
      "6\n"
     ]
    }
   ],
   "source": [
    "from collections import ChainMap\n",
    "\n",
    "dict1 = {\"one\":1,\"two\":2}\n",
    "dict2 = {\"three\":3,\"four\":4}\n",
    "chain = ChainMap(dict1,dict2)\n",
    "\n",
    "print(dict1,\"--->\",type(dict1))\n",
    "print(dict2,\"--->\",type(dict2))\n",
    "print(chain)\n",
    "print(type(chain))\n",
    "\n",
    "print(chain[\"three\"])\n",
    "print(chain[\"one\"])\n",
    "# print(chain[\"missing\"])\n",
    "\n",
    "dict1[\"five\"] = 5\n",
    "print(dict1)\n",
    "print(chain)\n",
    "\n",
    "dict2[\"six\"] = 6\n",
    "print(dict2)\n",
    "print(chain)\n",
    "\n",
    "print(chain[\"five\"])\n",
    "print(chain[\"six\"])"
   ]
  },
  {
   "cell_type": "markdown",
   "id": "8bfe54f7",
   "metadata": {},
   "source": [
    "### types.MappingProxyType"
   ]
  },
  {
   "cell_type": "markdown",
   "id": "daf574db",
   "metadata": {},
   "source": [
    "- types.MappingProxyType\n",
    "    - It is a wrapper around a standard dictionary.\n",
    "    - It creates a read-only view into the mapped dictionary's data.\n",
    "    - It can thus be used to create immutable proxy versions of dictionaries."
   ]
  },
  {
   "cell_type": "code",
   "execution_count": 34,
   "id": "f1743ce5",
   "metadata": {},
   "outputs": [
    {
     "name": "stdout",
     "output_type": "stream",
     "text": [
      "1\n",
      "{'one': 42, 'two': 2}\n"
     ]
    }
   ],
   "source": [
    "from types import MappingProxyType\n",
    "\n",
    "writable = {\"one\":1,\"two\":2}\n",
    "read_only = MappingProxyType(writable)\n",
    "\n",
    "print(read_only[\"one\"])\n",
    "\n",
    "# read_only[\"one\"] = 23\n",
    "\n",
    "writable[\"one\"] = 42\n",
    "print(read_only)"
   ]
  },
  {
   "cell_type": "markdown",
   "id": "a12f2394",
   "metadata": {},
   "source": [
    "## ARRAY DATA STRUCTURES"
   ]
  },
  {
   "cell_type": "code",
   "execution_count": null,
   "id": "98ece91a",
   "metadata": {},
   "outputs": [],
   "source": []
  }
 ],
 "metadata": {
  "kernelspec": {
   "display_name": "Python 3 (ipykernel)",
   "language": "python",
   "name": "python3"
  },
  "language_info": {
   "codemirror_mode": {
    "name": "ipython",
    "version": 3
   },
   "file_extension": ".py",
   "mimetype": "text/x-python",
   "name": "python",
   "nbconvert_exporter": "python",
   "pygments_lexer": "ipython3",
   "version": "3.10.9"
  }
 },
 "nbformat": 4,
 "nbformat_minor": 5
}
