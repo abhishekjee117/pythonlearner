{
 "cells": [
  {
   "cell_type": "markdown",
   "id": "ceb1b467",
   "metadata": {},
   "source": [
    "# DATA STRUTURES IN PYTHON"
   ]
  },
  {
   "cell_type": "markdown",
   "id": "42472f9b",
   "metadata": {},
   "source": [
    "## DICTIONARIES, MAPS AND HASH TABLES"
   ]
  },
  {
   "cell_type": "markdown",
   "id": "4d25169b",
   "metadata": {},
   "source": [
    "- Dictionaries are a collection of key-value pairs enclosed within {} braces.\n",
    "- They are also known as:\n",
    "    - maps\n",
    "    - hashmaps\n",
    "    - lookup tables\n",
    "    - associative arrays (because they \"associate\" values with keys)\n",
    "- A dictionary key should be of \"hashable\" type, i.e., it should have a hash value that never changes during its lifetime.\n",
    "    - Strings and numbers are immutable, and hence make the best candidates for dictionary keys.\n",
    "    - Tuple objects may also be used as dictionary keys as long as they contain only hashable types themselves.\n",
    "- A dictionary value can be of any type, and they need not be unique.\n",
    "- A dictionary key cannot have more than one value, i.e., there cannot be duplicate keys. In case a duplicate key is encountered, the latest value assigned to the key is considered."
   ]
  },
  {
   "cell_type": "markdown",
   "id": "dd0ee911",
   "metadata": {},
   "source": [
    "### STANDARD DICTIONARY IMPLEMENTATIONS"
   ]
  },
  {
   "cell_type": "code",
   "execution_count": null,
   "id": "92d165de",
   "metadata": {
    "scrolled": true
   },
   "outputs": [],
   "source": [
    "x_dict = {x:x*x for x in range(6)}\n",
    "print(x_dict)"
   ]
  },
  {
   "cell_type": "code",
   "execution_count": null,
   "id": "a5ce84bb",
   "metadata": {},
   "outputs": [],
   "source": [
    "phonebook = {\n",
    "    'bob':7387,\n",
    "    'alice':3719,\n",
    "    'jack':7052\n",
    "}\n",
    "print(phonebook)"
   ]
  },
  {
   "cell_type": "code",
   "execution_count": null,
   "id": "c4981b4a",
   "metadata": {},
   "outputs": [],
   "source": [
    "print(phonebook['alice'])"
   ]
  },
  {
   "cell_type": "code",
   "execution_count": null,
   "id": "b087b547",
   "metadata": {},
   "outputs": [],
   "source": [
    "dict_empty = {}\n",
    "print(dict_empty)"
   ]
  },
  {
   "cell_type": "code",
   "execution_count": null,
   "id": "79240008",
   "metadata": {},
   "outputs": [],
   "source": [
    "# Entering duplicate keys into a dictionary\n",
    "\n",
    "dupdict = {\n",
    "    'a':1,\n",
    "    'b':2,\n",
    "    'a':3,\n",
    "    'c':4\n",
    "}\n",
    "print(dupdict)"
   ]
  },
  {
   "cell_type": "code",
   "execution_count": null,
   "id": "6c155931",
   "metadata": {},
   "outputs": [],
   "source": [
    "# Using a mutable data type as the key\n",
    "\n",
    "mut_dict = {\n",
    "    ['abc']:1,\n",
    "    'b':2,\n",
    "    'c':3\n",
    "}\n",
    "print(mut_dict)"
   ]
  },
  {
   "cell_type": "code",
   "execution_count": null,
   "id": "9705c4fe",
   "metadata": {},
   "outputs": [],
   "source": [
    "# Creating a dictionary and accesing the elements in it\n",
    "\n",
    "dict = {'Name':'Zara','Age':7,'Class':'First'}\n",
    "print(dict)\n",
    "print(\"The name is:\",dict['Name'])\n",
    "print(\"The age is:\",dict['Age'])\n",
    "print(\"The class is:\",dict['Class'])"
   ]
  },
  {
   "cell_type": "code",
   "execution_count": null,
   "id": "09b46962",
   "metadata": {},
   "outputs": [],
   "source": [
    "# Updating the value of a key in the dictionary\n",
    "\n",
    "dict = {'Name':'Zara','Age':7,'Class':'First'}\n",
    "print(\"The dictionary is:\",dict)\n",
    "\n",
    "print(\"\\nUpdating the age...\")\n",
    "dict['Age'] = 8\n",
    "print(\"The updated age is:\",dict['Age'])\n",
    "\n",
    "# Adding a new key-value pair to the dictionary\n",
    "\n",
    "print(\"\\nAdding a new key-value pair...\")\n",
    "dict['School'] = 'DPS'\n",
    "print(\"The updated dictionary is:\",dict)\n",
    "\n",
    "# Deleting a dictionary element\n",
    "\n",
    "print(\"\\nDeleting the \\'Name\\' element...\")\n",
    "del dict['Name']\n",
    "print(\"The updated dictionary is:\",dict)\n",
    "\n",
    "# Clearing the entire dictionary\n",
    "\n",
    "print(\"\\nClearing the entire dictionary...\")\n",
    "dict.clear()\n",
    "print(\"The updated dictionary is:\",dict)\n",
    "print(\"The dictionary has been cleared!\")\n",
    "\n",
    "# Deleting the dictionary\n",
    "\n",
    "print(\"\\nDeleting the dictionary...\")\n",
    "del dict\n",
    "print(\"The deleted dictionary is:\",dict)\n",
    "print(\"The entire dictionary has been deleted, and ceases to exist anymore!\")"
   ]
  },
  {
   "cell_type": "markdown",
   "id": "5eb639b8",
   "metadata": {},
   "source": [
    "### SPECIALIZED DICTIONARY IMPLEMENTATIONS"
   ]
  },
  {
   "cell_type": "markdown",
   "id": "dc3eb283",
   "metadata": {},
   "source": [
    "### collections.OrderedDict"
   ]
  },
  {
   "cell_type": "markdown",
   "id": "4f18419f",
   "metadata": {},
   "source": [
    "- This subclass of the \"dict\" class remembers the insertion order of the keys added to a dictionary.\n",
    "- You need to import the \"collections\" library in order to use this subclass."
   ]
  },
  {
   "cell_type": "code",
   "execution_count": null,
   "id": "42f7f567",
   "metadata": {},
   "outputs": [],
   "source": [
    "import collections\n",
    "\n",
    "d = collections.OrderedDict(one=1,two=2,three=3)\n",
    "print(d)\n",
    "\n",
    "d['four'] = 4\n",
    "print(d)\n",
    "\n",
    "d['one'] = 10\n",
    "print(d)\n",
    "\n",
    "print(d.keys())"
   ]
  },
  {
   "cell_type": "markdown",
   "id": "12b70038",
   "metadata": {},
   "source": [
    "### collections.defaultDict"
   ]
  },
  {
   "cell_type": "markdown",
   "id": "e3cdd247",
   "metadata": {},
   "source": [
    "- This subclass of the \"dict\" class that accepts a callable in its constructor whose return value will be used if a requesed key cannot be found.\n",
    "- This subclass can be useful for exception handling with regards to dictionaries."
   ]
  },
  {
   "cell_type": "code",
   "execution_count": null,
   "id": "27ed75e1",
   "metadata": {},
   "outputs": [],
   "source": [
    "from collections import defaultdict\n",
    "\n",
    "dd = defaultdict(list)\n",
    "\n",
    "print(dd)\n",
    "print(dd[\"dogs\"])\n",
    "\n",
    "dd[\"dogs\"].append(\"Rufus\")\n",
    "dd[\"dogs\"].append(\"Kathrin\")\n",
    "dd[\"dogs\"].append(\"Mr Sniffles\")\n",
    "\n",
    "print(dd[\"dogs\"])"
   ]
  },
  {
   "cell_type": "markdown",
   "id": "61b72e26",
   "metadata": {},
   "source": [
    "### collections.ChainMap"
   ]
  },
  {
   "cell_type": "markdown",
   "id": "f1862ebc",
   "metadata": {},
   "source": [
    "- This data structure groups multiple dictionaries into a single mapping.\n",
    "- Lookups search the underlying mappings one by one until a key is found.\n",
    "- Insertions, updates and deletions only affect the first mapping added to the chain."
   ]
  },
  {
   "cell_type": "code",
   "execution_count": null,
   "id": "ac962a94",
   "metadata": {},
   "outputs": [],
   "source": [
    "from collections import ChainMap\n",
    "\n",
    "dict1 = {\"one\":1,\"two\":2}\n",
    "dict2 = {\"three\":3,\"four\":4}\n",
    "chain = ChainMap(dict1,dict2)\n",
    "\n",
    "print(chain)"
   ]
  },
  {
   "cell_type": "code",
   "execution_count": null,
   "id": "f8e5e219",
   "metadata": {},
   "outputs": [],
   "source": [
    "chain[\"three\"]"
   ]
  },
  {
   "cell_type": "markdown",
   "id": "8b13f6ef",
   "metadata": {},
   "source": [
    "### types.MappingProxyType"
   ]
  },
  {
   "cell_type": "markdown",
   "id": "c03b7a29",
   "metadata": {},
   "source": [
    "- It is a mapping around a standard dictionary.\n",
    "- It provides a read-only view into the wrapped dictionary's data.\n",
    "- It can be used to create immutable proxy versions of dictionaries."
   ]
  },
  {
   "cell_type": "code",
   "execution_count": null,
   "id": "66437b5e",
   "metadata": {},
   "outputs": [],
   "source": [
    "from types import MappingProxyType\n",
    "\n",
    "writeable = {\"one\":1,\"two\":2}\n",
    "print(\"The dictionary is:\",writeable)\n",
    "\n",
    "print(\"\\nConverting the writeable dictionary into a read-only one...\")\n",
    "read_only = MappingProxyType(writeable)\n",
    "\n",
    "print(\"The read-only version of the dictionary is:\",read_only)\n",
    "\n",
    "print(read_only[\"one\"])\n",
    "\n",
    "# read_only[\"one\"] = 23\n",
    "\n",
    "print(\"\\nUpdating the base (writeable) dictionary...\")\n",
    "writeable[\"one\"] = 42\n",
    "print(read_only)\n",
    "print(\"When the writeable dictionary is updated, the values in its corresponding read-only wrapper are automatically updated as well!\")"
   ]
  },
  {
   "cell_type": "code",
   "execution_count": null,
   "id": "0c96619b",
   "metadata": {},
   "outputs": [],
   "source": []
  }
 ],
 "metadata": {
  "kernelspec": {
   "display_name": "Python 3 (ipykernel)",
   "language": "python",
   "name": "python3"
  },
  "language_info": {
   "codemirror_mode": {
    "name": "ipython",
    "version": 3
   },
   "file_extension": ".py",
   "mimetype": "text/x-python",
   "name": "python",
   "nbconvert_exporter": "python",
   "pygments_lexer": "ipython3",
   "version": "3.10.9"
  }
 },
 "nbformat": 4,
 "nbformat_minor": 5
}
