{
 "cells": [
  {
   "cell_type": "markdown",
   "id": "3e25eb87",
   "metadata": {},
   "source": [
    "# <u>PYTHON DICTIONARIES</u>"
   ]
  },
  {
   "cell_type": "markdown",
   "id": "7505bc25",
   "metadata": {},
   "source": [
    "# <font color=\"red\">How to Iterate Through a Dictionary in Python</font>\n",
    "<b>Source</b> : https://realpython.com/iterate-through-dictionary-python/#using-comprehensions\n",
    "\n",
    "This page has a number of links that visit other concepts. Make sure you explore ALL of them."
   ]
  },
  {
   "cell_type": "markdown",
   "id": "d5a5cf33",
   "metadata": {},
   "source": [
    "- A Few Words on Dictionaries\n",
    "- How to Iterate Through a Dictionary in Python: The Basics\n",
    "\t- Iterating Through Keys Directly\n",
    "\t- Iterating Through .items()\n",
    "\t- Iterating Through .keys()\n",
    "\t- Iterating Through .values()\n",
    "- Modifying Values and Keys\n",
    "- Real-World Examples\n",
    "\t- Turning Keys Into Values and Vice Versa\n",
    "\t- Filtering Items\n",
    "\t- Doing Some Calculations\n",
    "- Using Comprehensions\n",
    "\t- Turning Keys Into Values and Vice Versa: Revisited\n",
    "\t- Filtering Items: Revisited\n",
    "\t- Doing Some Calculations: Revisited\n",
    "\t- Removing Specific Items\n",
    "\t- Sorting a Dictionary\n",
    "- Iterating in Sorted Order\n",
    "\t- Sorted by Keys\n",
    "\t- Sorted by Values\n",
    "\t- Reversed\n",
    "- Iterating Destructively With .popitem()\n",
    "- Using Some of Python’s Built-In Functions\n",
    "\t- map()\n",
    "\t- filter()\n",
    "- Using collections.ChainMap\n",
    "- Using itertools\n",
    "\t- Cyclic Iteration With cycle()\n",
    "\t- Chained Iteration With chain()\n",
    "- Using the Dictionary Unpacking Operator (**)\n",
    "- Conclusion"
   ]
  },
  {
   "cell_type": "markdown",
   "id": "0a543da3",
   "metadata": {},
   "source": [
    "- Python's official documentation defines a dictionary as an <b>associative array</b>, where arbitrary keys are mapped to values.\n",
    "- Those keys can be any object with <b>`__hash()__`</b> and <b>`__eq()__`</b> methods.\n",
    "\n",
    "- Python 3.5 onwards, the dictionaries are unordered and randomized.\n",
    "    - It means that if you enter key:value pairs into a dictionary, then the order in which they are displayed/returned is different in different sessions.\n",
    "\n",
    "- Since dictionaries are mutable data structures themselves, they cannot be used as values in other dictionaries. In other words, it is impossible to have nested dictionaries."
   ]
  },
  {
   "cell_type": "markdown",
   "id": "81ff9e2b",
   "metadata": {},
   "source": [
    "## <b>How to Iterate Through a Dictionary in Python: The Basics</b> "
   ]
  },
  {
   "cell_type": "markdown",
   "id": "4b40658d",
   "metadata": {},
   "source": [
    "### <b>Iterating Through Keys Directly</b>"
   ]
  },
  {
   "cell_type": "code",
   "execution_count": null,
   "id": "953ae63d",
   "metadata": {},
   "outputs": [],
   "source": []
  }
 ],
 "metadata": {
  "kernelspec": {
   "display_name": "Python 3 (ipykernel)",
   "language": "python",
   "name": "python3"
  },
  "language_info": {
   "codemirror_mode": {
    "name": "ipython",
    "version": 3
   },
   "file_extension": ".py",
   "mimetype": "text/x-python",
   "name": "python",
   "nbconvert_exporter": "python",
   "pygments_lexer": "ipython3",
   "version": "3.10.9"
  }
 },
 "nbformat": 4,
 "nbformat_minor": 5
}
